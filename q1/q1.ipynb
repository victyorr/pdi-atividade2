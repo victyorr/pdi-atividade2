{
 "cells": [
  {
   "cell_type": "code",
   "execution_count": null,
   "metadata": {},
   "outputs": [
    {
     "ename": "",
     "evalue": "",
     "output_type": "error",
     "traceback": [
      "\u001b[1;31mRunning cells with 'Python 3.13.2' requires the ipykernel package.\n",
      "\u001b[1;31mRun the following command to install 'ipykernel' into the Python environment. \n",
      "\u001b[1;31mCommand: 'c:/Users/victo/AppData/Local/Programs/Python/Python313/python.exe -m pip install ipykernel -U --user --force-reinstall'"
     ]
    }
   ],
   "source": [
    "import cv2\n",
    "import matplotlib.pyplot as plt\n",
    "import numpy as np"
   ]
  },
  {
   "cell_type": "markdown",
   "metadata": {},
   "source": []
  },
  {
   "cell_type": "code",
   "execution_count": null,
   "metadata": {},
   "outputs": [],
   "source": [
    "## implementar a função que identifica a bandeira\n",
    "## a função deve receber uma imagem e retornar a bandeira identificada\n",
    "## a função deve retornar uma lista de tuplas, onde cada tupla contém as coordenadas de um dos cantos da bandeira\n",
    "## [(PAIS, (x1, y2), (x2, y2)`),(PAIS, (x1, y2), (x2, y2)`),(PAIS, (x1, y2), (x2, y2)`),...]\n",
    "\n",
    "def identifica_bandeira(img):\n",
    "    gray = cv2.cvtColor(img, cv2.COLOR_BGR2GRAY)\n",
    "    blurred = cv2.GaussianBlur(gray, (5, 5), 0)\n",
    "    edges = cv2.Canny(blurred, 50, 150)\n",
    "    \n",
    "    contours, _ = cv2.findContours(edges, cv2.RETR_EXTERNAL, cv2.CHAIN_APPROX_SIMPLE)\n",
    "    bandeiras = []\n",
    "    \n",
    "    for cnt in contours:\n",
    "        x, y, w, h = cv2.boundingRect(cnt)\n",
    "        aspect_ratio = w / float(h)\n",
    "        \n",
    "        if 1.5 < aspect_ratio < 2.0 and w > 50 and h > 30:  # Filtra possíveis bandeiras\n",
    "            roi = img[y:y+h, x:x+w]\n",
    "            pais = classifica_bandeira(roi)\n",
    "            bandeiras.append((pais, (x, y), (x + w, y + h)))\n",
    "    \n",
    "    return bandeiras\n",
    "\n"
   ]
  },
  {
   "cell_type": "code",
   "execution_count": null,
   "metadata": {},
   "outputs": [],
   "source": [
    "def classifica_bandeira(roi):\n",
    "    hsv = cv2.cvtColor(roi, cv2.COLOR_BGR2HSV)\n",
    "    h, w, _ = hsv.shape\n",
    "    \n",
    "    cor_sup_esq = hsv[h//10, w//10]  # Evita índice negativo\n",
    "    cor_inf_esq = hsv[-h//10, w//10]\n",
    "    \n",
    "    hue_sup, _, _ = cor_sup_esq\n",
    "    hue_inf, _, _ = cor_inf_esq\n",
    "    \n",
    "    if hue_sup < 10 and hue_inf < 10:\n",
    "        return \"Peru\"\n",
    "    elif hue_sup < 10 and hue_inf > 100:\n",
    "        return \"Singapura\"\n",
    "    elif hue_sup > 100 and hue_inf < 10:\n",
    "        return \"Mônaco\"\n",
    "    elif 20 < hue_sup < 40 and 20 < hue_inf < 40:\n",
    "        return \"Irlanda\"\n",
    "    elif 40 < hue_sup < 60 and 40 < hue_inf < 60:\n",
    "        return \"Itália\"\n",
    "    else:\n",
    "        return \"Desconhecido\""
   ]
  },
  {
   "cell_type": "code",
   "execution_count": null,
   "metadata": {},
   "outputs": [],
   "source": []
  },
  {
   "cell_type": "code",
   "execution_count": 33,
   "metadata": {},
   "outputs": [],
   "source": [
    "## nao alterar essa função\n",
    "# Função para desenhar as bandeiras identificadas\n",
    "def draw_bandeiras(lista_bandeiras, bgr):\n",
    "    try:\n",
    "        for bandeira in lista_bandeiras:\n",
    "            cv2.rectangle(bgr, bandeira[1], bandeira[2], (255, 0, 0), 5)\n",
    "            cv2.putText(bgr, bandeira[0], bandeira[1], cv2.FONT_HERSHEY_SIMPLEX, 1, (255, 0, 0), 2, cv2.LINE_AA)\n",
    "        return bgr\n",
    "    except Exception as e:\n",
    "        return bgr"
   ]
  },
  {
   "cell_type": "code",
   "execution_count": null,
   "metadata": {},
   "outputs": [],
   "source": [
    "## Para testar a função identifica_bandeira\n",
    "\n",
    "# Você pode testar a função identifica_bandeira com as imagens de teste fornecidas\n",
    "# \n",
    "img = cv2.imread('img/teste1.png')\n",
    "# img = cv2.imread('img/teste2.png')\n",
    "# img = cv2.imread('img/teste3.png')\n",
    "# img = cv2.imread('img/teste4.png')\n",
    "\n",
    "# Chamar a função identifica_bandeira\n",
    "resultado = identifica_bandeira(img)\n",
    "\n",
    "# Imprimir o resultado da função identifica_bandeira \n",
    "print(resultado)\n",
    "\n",
    "# Desenhar as bandeiras na imagem\n",
    "bgr = draw_bandeiras(resultado, img)\n",
    "plt.imshow(cv2.cvtColor(bgr, cv2.COLOR_BGR2RGB))\n",
    "plt.show()\n",
    "\n",
    "\n"
   ]
  },
  {
   "cell_type": "code",
   "execution_count": null,
   "metadata": {},
   "outputs": [],
   "source": []
  }
 ],
 "metadata": {
  "kernelspec": {
   "display_name": "Python 3",
   "language": "python",
   "name": "python3"
  },
  "language_info": {
   "codemirror_mode": {
    "name": "ipython",
    "version": 3
   },
   "file_extension": ".py",
   "mimetype": "text/x-python",
   "name": "python",
   "nbconvert_exporter": "python",
   "pygments_lexer": "ipython3",
   "version": "3.13.2"
  }
 },
 "nbformat": 4,
 "nbformat_minor": 2
}
